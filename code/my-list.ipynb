{
 "cells": [
  {
   "cell_type": "code",
   "execution_count": 3,
   "metadata": {},
   "outputs": [],
   "source": [
    "import sys"
   ]
  },
  {
   "cell_type": "code",
   "execution_count": 4,
   "metadata": {},
   "outputs": [
    {
     "data": {
      "text/plain": [
       "'3.10.4 (main, Apr  3 2023, 22:35:52) [GCC 9.4.0]'"
      ]
     },
     "execution_count": 4,
     "metadata": {},
     "output_type": "execute_result"
    }
   ],
   "source": [
    "sys.version"
   ]
  },
  {
   "cell_type": "code",
   "execution_count": 5,
   "metadata": {},
   "outputs": [
    {
     "name": "stdout",
     "output_type": "stream",
     "text": [
      "입력한 ID: 1234\n",
      "암호화하여 저장된 ID: 27181616\n",
      "로그인 성공: True\n"
     ]
    }
   ],
   "source": [
    "orgPwd = int(input('ID로 사용할 8자리의 정수를 입력하세요 >> '))\n",
    "#orgPwd = 12345678\n",
    "keyMask = 27182818 #키로 사용할 정수 하나를 저장 \n",
    "encPwd = orgPwd ^ keyMask #ID를 암호화시켜 저장\n",
    "\n",
    "print('입력한 ID: %d' % orgPwd)\n",
    "print('암호화하여 저장된 ID: %d' % encPwd)\n",
    "\n",
    "inPwd = int(input('로그인할 ID 입력하세요 >> '))\n",
    "#inPwd = 12345678\n",
    "result = encPwd ^ keyMask #키로 암호화된 것을 복호화\n",
    "print('로그인 성공: {}'.format(inPwd == result))"
   ]
  },
  {
   "cell_type": "code",
   "execution_count": 8,
   "metadata": {},
   "outputs": [
    {
     "name": "stdout",
     "output_type": "stream",
     "text": [
      "00000000000000000000000000000110        6 :num\n",
      "00000000000000000000001100000000      768 :6 << 7\n",
      "00000000000000000000001100000000      768 :6 * 2**7\n"
     ]
    }
   ],
   "source": [
    "num = int(input('이동 연산 num << cnt를 수행할 정수 num 입력 ? '))\n",
    "cnt = int(input('이동 연산 num << cnt를 수행할 정수 cnt 입력 ? '))\n",
    "#num = 0b00010111\n",
    "#cnt = 3\n",
    "print('{0:032b} {0:8d} :num'.format(num))\n",
    "print('{2:032b} {2:8d} :{0} << {1}'.format(num, cnt, num << cnt))\n",
    "print('{2:032b} {2:8d} :{0} * 2**{1}'.format(num, cnt, num * 2**cnt))\n"
   ]
  },
  {
   "cell_type": "code",
   "execution_count": null,
   "metadata": {},
   "outputs": [],
   "source": []
  },
  {
   "cell_type": "code",
   "execution_count": 10,
   "metadata": {},
   "outputs": [
    {
     "name": "stdout",
     "output_type": "stream",
     "text": [
      "입력한 년도: 4056\n",
      "개별 검사 True and True or False: True\n",
      "통합 검사: True\n"
     ]
    }
   ],
   "source": [
    "year = int(input('윤년을 검사할 년도 입력 >> '))\n",
    "#year = 2020\n",
    "print('입력한 년도: %d' % year)\n",
    "cond1 = year % 4 == 0\n",
    "cond2 = year % 100 != 0\n",
    "cond3 = year % 400 == 0\n",
    "result1 = cond1 and cond2 or cond3\n",
    "print('개별 검사 {} and {} or {}: {}'.format(cond1, cond2, cond3, result1))\n",
    "result2 = year % 4 == 0 and year % 100 != 0 or year % 400 == 0\n",
    "print('통합 검사: %s' % result2)"
   ]
  },
  {
   "cell_type": "code",
   "execution_count": 12,
   "metadata": {},
   "outputs": [
    {
     "name": "stdout",
     "output_type": "stream",
     "text": [
      "미세먼지 농도: 1.00, 등급: 좋음\n"
     ]
    }
   ],
   "source": [
    "#%% 04-05dustforecast.py\t미세 먼지 예보\n",
    "PM = float(input('미세먼지(10마이크로그램)의 농도는 ? '))\n",
    "#PM = 90 #particulate matter: 미세먼지\n",
    "if 151 <= PM:\n",
    "    print('미세먼지 농도: {:.2f}, 등급: {}'.format(PM, '매우 나쁨'))\n",
    "elif 81 <= PM:\n",
    "    print('미세먼지 농도: {:.2f}, 등급: {}'.format(PM, '나쁨'))\n",
    "elif 31 <= PM:\n",
    "    print('미세먼지 농도: {:.2f}, 등급: {}'.format(PM, '보통'))\n",
    "else:\n",
    "    print('미세먼지 농도: {:.2f}, 등급: {}'.format(PM, '좋음'))\n"
   ]
  },
  {
   "cell_type": "code",
   "execution_count": 13,
   "metadata": {},
   "outputs": [],
   "source": [
    "import math"
   ]
  },
  {
   "cell_type": "code",
   "execution_count": 14,
   "metadata": {},
   "outputs": [
    {
     "data": {
      "text/plain": [
       "2.718281828459045"
      ]
     },
     "execution_count": 14,
     "metadata": {},
     "output_type": "execute_result"
    }
   ],
   "source": [
    "math.e"
   ]
  },
  {
   "cell_type": "code",
   "execution_count": 18,
   "metadata": {},
   "outputs": [
    {
     "data": {
      "text/plain": [
       "'pi: 3.141592653589793115997963468544185161590576171875'"
      ]
     },
     "execution_count": 18,
     "metadata": {},
     "output_type": "execute_result"
    }
   ],
   "source": [
    "f'pi: {math.pi:.48f}'"
   ]
  },
  {
   "cell_type": "code",
   "execution_count": 19,
   "metadata": {},
   "outputs": [
    {
     "data": {
      "text/plain": [
       "'e:      2.718'"
      ]
     },
     "execution_count": 19,
     "metadata": {},
     "output_type": "execute_result"
    }
   ],
   "source": [
    "f'e: {math.e:10.3f}'"
   ]
  },
  {
   "cell_type": "code",
   "execution_count": 20,
   "metadata": {},
   "outputs": [
    {
     "data": {
      "text/plain": [
       "'pi: 3.142'"
      ]
     },
     "execution_count": 20,
     "metadata": {},
     "output_type": "execute_result"
    }
   ],
   "source": [
    "'pi: {:.3f}'.format(math.pi)"
   ]
  },
  {
   "cell_type": "code",
   "execution_count": 25,
   "metadata": {},
   "outputs": [
    {
     "name": "stdout",
     "output_type": "stream",
     "text": [
      "x: 5 is odd\n"
     ]
    }
   ],
   "source": [
    "x = 5\n",
    "if x % 2 == 0:\n",
    "    s = 'even'\n",
    "else:\n",
    "    s = 'odd'\n",
    "print(f'x: {x} is {s}')"
   ]
  },
  {
   "cell_type": "code",
   "execution_count": 27,
   "metadata": {},
   "outputs": [
    {
     "name": "stdout",
     "output_type": "stream",
     "text": [
      "x: 10 is even\n"
     ]
    }
   ],
   "source": [
    "x = 10\n",
    "s = 'even' if x % 2 == 0 else 'odd'\n",
    "print (f'x: {x} is {s}')"
   ]
  },
  {
   "cell_type": "code",
   "execution_count": 30,
   "metadata": {},
   "outputs": [
    {
     "name": "stdout",
     "output_type": "stream",
     "text": [
      "축하합니다! 장학금 지급 대상자입니다.\n",
      "당신의 1학기 평균평점 4.00입니다.\n"
     ]
    }
   ],
   "source": [
    "#%% 04-01gradeif.py\t평균평점 3.8이상이면 장학금 지급 대상자\n",
    "grade = float(input('1학기 평균평점은? '))\n",
    "if 3.8 <= grade:\n",
    "    print('축하합니다! 장학금 지급 대상자입니다.')\n",
    "print('당신의 1학기 평균평점 %.2f입니다.' % (grade))\n"
   ]
  },
  {
   "cell_type": "code",
   "execution_count": 31,
   "metadata": {},
   "outputs": [
    {
     "name": "stdout",
     "output_type": "stream",
     "text": [
      "미세먼지 농도: 156.00, 등급: 매우 나쁨\n"
     ]
    }
   ],
   "source": [
    "#%% 04-05dustforecast.py\t미세 먼지 예보\n",
    "PM = float(input('미세먼지(10마이크로그램)의 농도는 ? '))\n",
    "#PM = 90 #particulate matter: 미세먼지\n",
    "if 151 <= PM:\n",
    "    print('미세먼지 농도: {:.2f}, 등급: {}'.format(PM, '매우 나쁨'))\n",
    "elif 81 <= PM:\n",
    "    print('미세먼지 농도: {:.2f}, 등급: {}'.format(PM, '나쁨'))\n",
    "elif 31 <= PM:\n",
    "    print('미세먼지 농도: {:.2f}, 등급: {}'.format(PM, '보통'))\n",
    "else:\n",
    "    print('미세먼지 농도: {:.2f}, 등급: {}'.format(PM, '좋음'))\n"
   ]
  },
  {
   "cell_type": "code",
   "execution_count": 32,
   "metadata": {},
   "outputs": [
    {
     "name": "stdout",
     "output_type": "stream",
     "text": [
      "3. 카푸치노 선택\n"
     ]
    }
   ],
   "source": [
    "#%% 04-06nestedmenu.py \t커피와 주스 선택 이후 메뉴 선택\n",
    "category = int(input('원하는 음료는? 1. 커피 2. 주스 '))\n",
    "\n",
    "if category == 1:\n",
    "    menu = int(input('번호 선택? 1. 아메리카노 2. 카페라떼 3. 카푸치노 '))\n",
    "    if menu == 1:\n",
    "        print('1. 아메리카노 선택')\n",
    "    elif menu == 2:\n",
    "        print('2. 카페라떼 선택')\n",
    "    elif menu == 3:\n",
    "        print('3. 카푸치노 선택')\n",
    "else:\n",
    "    menu = int(input('번호 선택? 1. 키위주스 2. 토마토주스 3. 오렌지주스 '))\n",
    "    if menu == 1:\n",
    "        print('1. 키위주스 선택')\n",
    "    elif menu == 2:\n",
    "        print('2. 토마토주스 선택')\n",
    "    elif menu == 3:\n",
    "        print('3. 오렌지주스 선택')\n"
   ]
  },
  {
   "cell_type": "code",
   "execution_count": null,
   "metadata": {},
   "outputs": [],
   "source": []
  }
 ],
 "metadata": {
  "kernelspec": {
   "display_name": "Python 3",
   "language": "python",
   "name": "python3"
  },
  "language_info": {
   "codemirror_mode": {
    "name": "ipython",
    "version": 3
   },
   "file_extension": ".py",
   "mimetype": "text/x-python",
   "name": "python",
   "nbconvert_exporter": "python",
   "pygments_lexer": "ipython3",
   "version": "3.10.4"
  },
  "orig_nbformat": 4
 },
 "nbformat": 4,
 "nbformat_minor": 2
}
