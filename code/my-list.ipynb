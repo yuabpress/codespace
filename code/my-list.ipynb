{
 "cells": [
  {
   "cell_type": "code",
   "execution_count": 3,
   "metadata": {},
   "outputs": [],
   "source": [
    "import sys"
   ]
  },
  {
   "cell_type": "code",
   "execution_count": 4,
   "metadata": {},
   "outputs": [
    {
     "data": {
      "text/plain": [
       "'3.10.4 (main, Apr  3 2023, 22:35:52) [GCC 9.4.0]'"
      ]
     },
     "execution_count": 4,
     "metadata": {},
     "output_type": "execute_result"
    }
   ],
   "source": [
    "sys.version"
   ]
  },
  {
   "cell_type": "code",
   "execution_count": 5,
   "metadata": {},
   "outputs": [
    {
     "name": "stdout",
     "output_type": "stream",
     "text": [
      "입력한 ID: 1234\n",
      "암호화하여 저장된 ID: 27181616\n",
      "로그인 성공: True\n"
     ]
    }
   ],
   "source": [
    "orgPwd = int(input('ID로 사용할 8자리의 정수를 입력하세요 >> '))\n",
    "#orgPwd = 12345678\n",
    "keyMask = 27182818 #키로 사용할 정수 하나를 저장 \n",
    "encPwd = orgPwd ^ keyMask #ID를 암호화시켜 저장\n",
    "\n",
    "print('입력한 ID: %d' % orgPwd)\n",
    "print('암호화하여 저장된 ID: %d' % encPwd)\n",
    "\n",
    "inPwd = int(input('로그인할 ID 입력하세요 >> '))\n",
    "#inPwd = 12345678\n",
    "result = encPwd ^ keyMask #키로 암호화된 것을 복호화\n",
    "print('로그인 성공: {}'.format(inPwd == result))"
   ]
  },
  {
   "cell_type": "code",
   "execution_count": 7,
   "metadata": {},
   "outputs": [
    {
     "name": "stdout",
     "output_type": "stream",
     "text": [
      "00000000000000000000000000000101        5 :num\n",
      "00000000000000010100000000000000    81920 :5 << 14\n",
      "00000000000000010100000000000000    81920 :5 * 2**14\n"
     ]
    }
   ],
   "source": [
    "num = int(input('이동 연산 num << cnt를 수행할 정수 num 입력 ? '))\n",
    "cnt = int(input('이동 연산 num << cnt를 수행할 정수 cnt 입력 ? '))\n",
    "#num = 0b00010111\n",
    "#cnt = 3\n",
    "print('{0:032b} {0:8d} :num'.format(num))\n",
    "print('{2:032b} {2:8d} :{0} << {1}'.format(num, cnt, num << cnt))\n",
    "print('{2:032b} {2:8d} :{0} * 2**{1}'.format(num, cnt, num * 2**cnt))\n"
   ]
  },
  {
   "cell_type": "code",
   "execution_count": null,
   "metadata": {},
   "outputs": [],
   "source": [
    "year = int(input('윤년을 검사할 년도 입력 >> '))\n",
    "#year = 2020\n",
    "print('입력한 년도: %d' % year)\n",
    "cond1 = year % 4 == 0\n",
    "cond2 = year % 100 != 0\n",
    "cond3 = year % 400 == 0\n",
    "result1 = cond1 and cond2 or cond3\n",
    "print('개별 검사 {} and {} or {}: {}'.format(cond1, cond2, cond3, result1))\n",
    "result2 = year % 4 == 0 and year % 100 != 0 or year % 400 == 0\n",
    "print('통합 검사: %s' % result2)"
   ]
  }
 ],
 "metadata": {
  "kernelspec": {
   "display_name": "Python 3",
   "language": "python",
   "name": "python3"
  },
  "language_info": {
   "codemirror_mode": {
    "name": "ipython",
    "version": 3
   },
   "file_extension": ".py",
   "mimetype": "text/x-python",
   "name": "python",
   "nbconvert_exporter": "python",
   "pygments_lexer": "ipython3",
   "version": "3.10.4"
  },
  "orig_nbformat": 4
 },
 "nbformat": 4,
 "nbformat_minor": 2
}
